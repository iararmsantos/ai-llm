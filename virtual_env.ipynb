{
 "cells": [
  {
   "cell_type": "markdown",
   "id": "dcd133bb",
   "metadata": {},
   "source": [
    "### Python virtual environment\n",
    "- Python virtual environment on Windows using venv. This allows you to maintain project-specific dependencies and avoid conflicts between different projects.\n",
    "\n",
    "- Go to you project: cd path\\to\\your\\project\n",
    "- Create a virtual environment: python -m venv [PROJECT_NAME]\n",
    "- Activate Virtual Environment: [PROJECT_NAME]\\Scripts\\activate\n",
    "- Install Packages: pip install package-name / pip install requests==2.31.0 (with version pinning)\n",
    "- Deactivate virtual environment: deactivate\n",
    "- Reactivate Virtual Environment: [PROJECT_NAME]\\Scripts\\activate\n",
    "\n",
    "- List of requirements comes in a file requirements.in (similar to POM)\n",
    "- pip compile (Like run maven) - generate a requirements.txt\n",
    "- pip sync - update dependencies between the virtual environment and requirements.txt\n",
    "\n",
    "### Managing dependencies with pip-tool\n",
    "- Activate your virtual environment: [PROJECT_NAME]\\Scripts\\activate\n",
    "- install pip-tools: pip install pip-tools\n",
    "- create requirements input file (requirements.in)\n",
    "- add the dependencies like flask requests (one bellow another)\n",
    "- in the project folder, compile dependencies: pip-compile requirements.in (this will create requirements.txt)\n",
    "- install de compiled dependencies: pip-sync requirements.txt (this will uninstall all dependencies and install only the listed ones)\n",
    "- to update dependencies (the .txt file): pip-compile requirements.in\n",
    "- then run pip-sync again: pip-sync requirements.txt\n",
    "- to update all packages to the latest version: pip-compile \n",
    "- upgrade requirements.in\n",
    "- You can manage multiple sets of dependencies for different environments (e.g., development and production) by using separate .in files, such as dev-requirements.in.\n",
    "\n",
    "- Dependency conflicts can occur when different packages require different versions of the same dependency.\n",
    "\n",
    "Steps:\n",
    "1. identify the conflict and figure out which dependencies are causing the issue\n",
    "    -  upload your requirements txt file to your LLM and ask it to identify if there are conflicts between the libraries\n",
    "2. look for compatibility. Is there a version of the library that works for all libraries in the dependency chain\n",
    "3.  update your dependencies based on any recommendations and keep iterating until it works\n",
    "\n",
    "- pip audit - to evaluate dependency conflict in Python\n",
    "\n"
   ]
  }
 ],
 "metadata": {
  "language_info": {
   "name": "python"
  }
 },
 "nbformat": 4,
 "nbformat_minor": 5
}
