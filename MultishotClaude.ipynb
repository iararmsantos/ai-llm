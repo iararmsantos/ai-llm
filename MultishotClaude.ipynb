{
 "cells": [
  {
   "cell_type": "code",
   "execution_count": 1,
   "id": "b75a2851",
   "metadata": {},
   "outputs": [],
   "source": [
    "import os\n",
    "from dotenv import load_dotenv\n",
    "import anthropic\n",
    "import gradio as gr"
   ]
  },
  {
   "cell_type": "code",
   "execution_count": 2,
   "id": "2cd9a65a",
   "metadata": {},
   "outputs": [
    {
     "name": "stdout",
     "output_type": "stream",
     "text": [
      "OpenAI API Key exists and begins sk-proj-\n",
      "Anthropic API Key exists and begins sk-ant-\n",
      "Google API Key exists and begins AIzaSyB2\n"
     ]
    }
   ],
   "source": [
    "# Load environment variables in a file called .env\n",
    "# Print the key prefixes to help with any debugging\n",
    "\n",
    "load_dotenv(override=True)\n",
    "openai_api_key = os.getenv('OPENAI_API_KEY')\n",
    "anthropic_api_key = os.getenv('ANTHROPIC_API_KEY')\n",
    "google_api_key = os.getenv('GOOGLE_API_KEY')\n",
    "\n",
    "if openai_api_key:\n",
    "    print(f\"OpenAI API Key exists and begins {openai_api_key[:8]}\")\n",
    "else:\n",
    "    print(\"OpenAI API Key not set\")\n",
    "    \n",
    "if anthropic_api_key:\n",
    "    print(f\"Anthropic API Key exists and begins {anthropic_api_key[:7]}\")\n",
    "else:\n",
    "    print(\"Anthropic API Key not set\")\n",
    "\n",
    "if google_api_key:\n",
    "    print(f\"Google API Key exists and begins {google_api_key[:8]}\")\n",
    "else:\n",
    "    print(\"Google API Key not set\")"
   ]
  },
  {
   "cell_type": "code",
   "execution_count": 3,
   "id": "5d166535",
   "metadata": {},
   "outputs": [],
   "source": [
    "# Connect to Anthropic\n",
    "claude = anthropic.Anthropic()"
   ]
  },
  {
   "cell_type": "code",
   "execution_count": null,
   "id": "72de6d51",
   "metadata": {},
   "outputs": [],
   "source": [
    "system_message = \"You are a helpful assistant\"\n",
    "\n",
    "# Create a messages list using the same format that we used for OpenAI\n",
    "\n",
    "# user_prompt = [\n",
    "#     {\"role\": \"user\", \"content\": \"Describe some of the business applications of Generative AI\"}\n",
    "]\n"
   ]
  },
  {
   "cell_type": "code",
   "execution_count": null,
   "id": "32d0d052",
   "metadata": {},
   "outputs": [
    {
     "name": "stdout",
     "output_type": "stream",
     "text": [
      "# Business Applications of Generative AI\n",
      "\n",
      "Generative AI is transforming how businesses operate across multiple sectors. Here are some key business applications:\n",
      "\n",
      "## Customer Experience\n",
      "- **Personalized customer service chatbots** that provide 24/7 support\n",
      "- **Content personalization** for marketing materials tailored to individual preferences\n",
      "- **Voice assistants** for streamlined customer interactions\n",
      "\n",
      "## Content Creation\n",
      "- **Marketing copy generation** for campaigns, emails, and social media\n",
      "- **Product descriptions** at scale for e-commerce\n",
      "- **Report and presentation drafting** to accelerate business communications\n",
      "\n",
      "## Product Development\n",
      "- **Design ideation and prototyping** to accelerate innovation\n",
      "- **Code generation** to boost developer productivity\n",
      "- **Drug discovery** through molecule simulation in pharmaceuticals\n",
      "\n",
      "## Operations\n",
      "- **Document summarization and analysis** for legal, financial, and business intelligence\n",
      "- **Automated data entry and processing** to reduce manual"
     ]
    }
   ],
   "source": [
    "# result = claude.messages.stream(\n",
    "#     model=\"claude-3-7-sonnet-latest\",\n",
    "#     max_tokens=200,\n",
    "#     temperature=0.7,\n",
    "#     system=system_message,\n",
    "#     messages=[\n",
    "#         {\n",
    "#             \"role\": \"user\",\n",
    "#             \"content\": [\n",
    "#                 {\n",
    "#                     \"type\": \"text\",\n",
    "#                     \"text\": \"Describe some of the business applications of Generative AI\"\n",
    "#                 }\n",
    "#             ]\n",
    "#         }\n",
    "#     ],\n",
    "# )\n",
    "\n",
    "# with result as stream:\n",
    "#     for text in stream.text_stream:\n",
    "#             print(text, end=\"\", flush=True)"
   ]
  },
  {
   "cell_type": "code",
   "execution_count": 30,
   "id": "6e80866c",
   "metadata": {},
   "outputs": [],
   "source": [
    "def chat(message, history):\n",
    "    # Start with prior history as-is, but reformat content\n",
    "    messages = []\n",
    "    for msg in history:\n",
    "        if isinstance(msg[\"content\"], str):\n",
    "            messages.append({\n",
    "                \"role\": msg[\"role\"],\n",
    "                \"content\": [{\"type\": \"text\", \"text\": msg[\"content\"]}]\n",
    "            })\n",
    "\n",
    "    # Add the latest user message\n",
    "    messages.append({\n",
    "        \"role\": \"user\",\n",
    "        \"content\": [{\"type\": \"text\", \"text\": message}]\n",
    "    })\n",
    "\n",
    "    response = \"\"\n",
    "\n",
    "    # Proper usage of stream() with a context manager\n",
    "    with claude.messages.stream(\n",
    "        model=\"claude-3-7-sonnet-latest\",\n",
    "        system=system_message,\n",
    "        max_tokens=500,\n",
    "        temperature=0.7,\n",
    "        messages=messages,\n",
    "    ) as stream:\n",
    "        for event in stream:\n",
    "            if event.type == \"content_block_delta\" and hasattr(event.delta, \"text\"):\n",
    "                response += event.delta.text\n",
    "                yield response\n",
    "\n",
    "    if not response:\n",
    "        yield \"No response received.\""
   ]
  },
  {
   "cell_type": "code",
   "execution_count": 31,
   "id": "2246d08f",
   "metadata": {},
   "outputs": [
    {
     "name": "stdout",
     "output_type": "stream",
     "text": [
      "* Running on local URL:  http://127.0.0.1:7880\n",
      "* To create a public link, set `share=True` in `launch()`.\n"
     ]
    },
    {
     "data": {
      "text/html": [
       "<div><iframe src=\"http://127.0.0.1:7880/\" width=\"100%\" height=\"500\" allow=\"autoplay; camera; microphone; clipboard-read; clipboard-write;\" frameborder=\"0\" allowfullscreen></iframe></div>"
      ],
      "text/plain": [
       "<IPython.core.display.HTML object>"
      ]
     },
     "metadata": {},
     "output_type": "display_data"
    },
    {
     "data": {
      "text/plain": []
     },
     "execution_count": 31,
     "metadata": {},
     "output_type": "execute_result"
    }
   ],
   "source": [
    "gr.ChatInterface(fn=chat, type=\"messages\").launch()"
   ]
  }
 ],
 "metadata": {
  "kernelspec": {
   "display_name": "llms",
   "language": "python",
   "name": "python3"
  },
  "language_info": {
   "codemirror_mode": {
    "name": "ipython",
    "version": 3
   },
   "file_extension": ".py",
   "mimetype": "text/x-python",
   "name": "python",
   "nbconvert_exporter": "python",
   "pygments_lexer": "ipython3",
   "version": "3.11.12"
  }
 },
 "nbformat": 4,
 "nbformat_minor": 5
}
