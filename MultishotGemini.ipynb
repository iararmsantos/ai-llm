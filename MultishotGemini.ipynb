{
 "cells": [
  {
   "cell_type": "code",
   "execution_count": 13,
   "id": "addba39c",
   "metadata": {},
   "outputs": [],
   "source": [
    "# imports\n",
    "\n",
    "import os\n",
    "from dotenv import load_dotenv\n",
    "import gradio as gr\n"
   ]
  },
  {
   "cell_type": "code",
   "execution_count": 14,
   "id": "b08b2c4c",
   "metadata": {},
   "outputs": [],
   "source": [
    "# import for google\n",
    "\n",
    "import google.generativeai as genai"
   ]
  },
  {
   "cell_type": "code",
   "execution_count": 3,
   "id": "5ace0ca7",
   "metadata": {},
   "outputs": [
    {
     "name": "stdout",
     "output_type": "stream",
     "text": [
      "OpenAI API Key exists and begins sk-proj-\n",
      "Anthropic API Key exists and begins sk-ant-\n",
      "Google API Key exists and begins AIzaSyB2\n"
     ]
    }
   ],
   "source": [
    "# Load environment variables in a file called .env\n",
    "# Print the key prefixes to help with any debugging\n",
    "\n",
    "load_dotenv(override=True)\n",
    "openai_api_key = os.getenv('OPENAI_API_KEY')\n",
    "anthropic_api_key = os.getenv('ANTHROPIC_API_KEY')\n",
    "google_api_key = os.getenv('GOOGLE_API_KEY')\n",
    "\n",
    "if openai_api_key:\n",
    "    print(f\"OpenAI API Key exists and begins {openai_api_key[:8]}\")\n",
    "else:\n",
    "    print(\"OpenAI API Key not set\")\n",
    "    \n",
    "if anthropic_api_key:\n",
    "    print(f\"Anthropic API Key exists and begins {anthropic_api_key[:7]}\")\n",
    "else:\n",
    "    print(\"Anthropic API Key not set\")\n",
    "\n",
    "if google_api_key:\n",
    "    print(f\"Google API Key exists and begins {google_api_key[:8]}\")\n",
    "else:\n",
    "    print(\"Google API Key not set\")"
   ]
  },
  {
   "cell_type": "code",
   "execution_count": 15,
   "id": "d9448e73",
   "metadata": {},
   "outputs": [],
   "source": [
    "# This is the set up code for Gemini\n",
    "# Having problems with Google Gemini setup? Then just ignore this cell; when we use Gemini, I'll give you an alternative that bypasses this library altogether\n",
    "\n",
    "genai.configure(api_key=google_api_key)"
   ]
  },
  {
   "cell_type": "code",
   "execution_count": 16,
   "id": "9c513c46",
   "metadata": {},
   "outputs": [],
   "source": [
    "gemini_model=\"gemini-2.0-flash\""
   ]
  },
  {
   "cell_type": "code",
   "execution_count": 6,
   "id": "77eda44d",
   "metadata": {},
   "outputs": [],
   "source": [
    "system_message = \"You are a helpful assistant\""
   ]
  },
  {
   "cell_type": "code",
   "execution_count": 7,
   "id": "d7adc8b1",
   "metadata": {},
   "outputs": [],
   "source": [
    "# unified plain-text streaming interface that works in any Python environment\n",
    "def stream_model_response(name, stream, chunk_getter):\n",
    "    print(f\"\\n{name}:\\n\", end=\"\", flush=True)\n",
    "    full_response = \"\"\n",
    "    \n",
    "    for chunk in stream:\n",
    "        text = chunk_getter(chunk)\n",
    "        if text:\n",
    "            full_response += text\n",
    "            print(text, end=\"\", flush=True)\n",
    "\n",
    "    print(\"\\n\")  # End with newline for clean formatting\n",
    "    return full_response"
   ]
  },
  {
   "cell_type": "code",
   "execution_count": 19,
   "id": "849c40fd",
   "metadata": {},
   "outputs": [],
   "source": [
    "def chat(message, history): \n",
    "    gemini_messages = []\n",
    "\n",
    "    # Reformat Gradio history dicts to Gemini format\n",
    "    for msg in history:\n",
    "        gemini_messages.append({\n",
    "            \"role\": msg[\"role\"],\n",
    "            \"parts\": [msg[\"content\"]]\n",
    "        })\n",
    "\n",
    "    # Add current user message\n",
    "    gemini_messages.append({\n",
    "        \"role\": \"user\",\n",
    "        \"parts\": [message]\n",
    "    })\n",
    "\n",
    "    # Create model with system instruction\n",
    "    model = genai.GenerativeModel(\n",
    "        model_name=gemini_model,  # or gemini-1.5-pro\n",
    "        system_instruction=system_message\n",
    "    )\n",
    "\n",
    "    # Stream the response\n",
    "    stream = model.generate_content(gemini_messages, stream=True)\n",
    "    return stream_model_response(\"Gemini\", stream, lambda c: c.text or \"\")\n",
    "\n",
    "\n"
   ]
  },
  {
   "cell_type": "code",
   "execution_count": null,
   "id": "deed5f9a",
   "metadata": {},
   "outputs": [
    {
     "name": "stdout",
     "output_type": "stream",
     "text": [
      "* Running on local URL:  http://127.0.0.1:7863\n",
      "* To create a public link, set `share=True` in `launch()`.\n"
     ]
    },
    {
     "data": {
      "text/html": [
       "<div><iframe src=\"http://127.0.0.1:7863/\" width=\"100%\" height=\"500\" allow=\"autoplay; camera; microphone; clipboard-read; clipboard-write;\" frameborder=\"0\" allowfullscreen></iframe></div>"
      ],
      "text/plain": [
       "<IPython.core.display.HTML object>"
      ]
     },
     "metadata": {},
     "output_type": "display_data"
    },
    {
     "data": {
      "text/plain": []
     },
     "execution_count": 20,
     "metadata": {},
     "output_type": "execute_result"
    },
    {
     "name": "stdout",
     "output_type": "stream",
     "text": [
      "\n",
      "Gemini:\n",
      "Hi there! How can I help you today?\n",
      "\n",
      "\n",
      "\n",
      "Gemini:\n",
      "Why don't scientists trust atoms?\n",
      "\n",
      "Because they make up everything!\n",
      "\n",
      "\n",
      "\n",
      "Gemini:\n",
      "Okay, here's another one:\n",
      "\n",
      "Why did the scarecrow win an award?\n",
      "\n",
      "Because he was outstanding in his field!\n",
      "\n",
      "\n"
     ]
    }
   ],
   "source": [
    "gr.ChatInterface(fn=chat, type=\"messages\").launch()"
   ]
  }
 ],
 "metadata": {
  "kernelspec": {
   "display_name": "llms",
   "language": "python",
   "name": "python3"
  },
  "language_info": {
   "codemirror_mode": {
    "name": "ipython",
    "version": 3
   },
   "file_extension": ".py",
   "mimetype": "text/x-python",
   "name": "python",
   "nbconvert_exporter": "python",
   "pygments_lexer": "ipython3",
   "version": "3.11.12"
  }
 },
 "nbformat": 4,
 "nbformat_minor": 5
}
