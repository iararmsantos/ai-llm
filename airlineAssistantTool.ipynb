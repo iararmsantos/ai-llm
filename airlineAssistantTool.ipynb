{
 "cells": [
  {
   "cell_type": "code",
   "execution_count": 1,
   "id": "11fd7cfb",
   "metadata": {},
   "outputs": [],
   "source": [
    "# imports\n",
    "\n",
    "import os\n",
    "import json\n",
    "from dotenv import load_dotenv\n",
    "from openai import OpenAI\n",
    "import json\n",
    "import gradio as gr"
   ]
  },
  {
   "cell_type": "code",
   "execution_count": 2,
   "id": "af8f7b29",
   "metadata": {},
   "outputs": [
    {
     "name": "stdout",
     "output_type": "stream",
     "text": [
      "OpenAI API Key exists and begins sk-proj-\n"
     ]
    }
   ],
   "source": [
    "# Initialization\n",
    "\n",
    "load_dotenv(override=True)\n",
    "\n",
    "openai_api_key = os.getenv('OPENAI_API_KEY')\n",
    "if openai_api_key:\n",
    "    print(f\"OpenAI API Key exists and begins {openai_api_key[:8]}\")\n",
    "else:\n",
    "    print(\"OpenAI API Key not set\")\n",
    "    \n",
    "MODEL = \"gpt-4o-mini\"\n",
    "openai = OpenAI()\n",
    "\n",
    "# As an alternative, if you'd like to use Ollama instead of OpenAI\n",
    "# Check that Ollama is running for you locally (see week1/day2 exercise) then uncomment these next 2 lines\n",
    "# MODEL = \"llama3.2\"\n",
    "# openai = OpenAI(base_url='http://localhost:11434/v1', api_key='ollama')\n"
   ]
  },
  {
   "cell_type": "code",
   "execution_count": 3,
   "id": "f27b4a99",
   "metadata": {},
   "outputs": [],
   "source": [
    "system_message = \"You are a helpful assistant for an Airline called FlightAI. \"\n",
    "system_message += \"Give short, courteous answers, no more than 1 sentence. \"\n",
    "system_message += \"Always be accurate. If you don't know the answer, say so.\""
   ]
  },
  {
   "cell_type": "code",
   "execution_count": 4,
   "id": "696d1dd1",
   "metadata": {},
   "outputs": [],
   "source": [
    "# Let's start by making a useful function\n",
    "\n",
    "ticket_prices = {\"london\": \"$799\", \"paris\": \"$899\", \"tokyo\": \"$1400\", \"berlin\": \"$499\"}\n",
    "\n",
    "def get_ticket_price(destination_city):\n",
    "    print(f\"Tool get_ticket_price called for {destination_city}\")\n",
    "    city = destination_city.lower()\n",
    "    return ticket_prices.get(city, \"Unknown\")"
   ]
  },
  {
   "cell_type": "code",
   "execution_count": 5,
   "id": "c6bb42fb",
   "metadata": {},
   "outputs": [],
   "source": [
    "# There's a particular dictionary structure that's required to describe our function:\n",
    "\n",
    "price_function = {\n",
    "    \"name\": \"get_ticket_price\",\n",
    "    \"description\": \"Get the price of a return ticket to the destination city. Call this whenever you need to know the ticket price, for example when a customer asks 'How much is a ticket to this city'\",\n",
    "    \"parameters\": {\n",
    "        \"type\": \"object\",\n",
    "        \"properties\": {\n",
    "            \"destination_city\": {\n",
    "                \"type\": \"string\",\n",
    "                \"description\": \"The city that the customer wants to travel to\",\n",
    "            },\n",
    "        },\n",
    "        \"required\": [\"destination_city\"],\n",
    "        \"additionalProperties\": False\n",
    "    }\n",
    "}"
   ]
  },
  {
   "cell_type": "code",
   "execution_count": 6,
   "id": "bab59b26",
   "metadata": {},
   "outputs": [],
   "source": [
    "seats_available = {\"london\": 25, \"paris\": 30, \"tokyo\": 10, \"berlin\": 0}\n",
    "\n",
    "def get_seats_available(destination_city):\n",
    "    print(f\"Tool get_seats_available called for {destination_city}\")\n",
    "    city = destination_city.lower()\n",
    "    return seats_available.get(city, \"Unknown\")"
   ]
  },
  {
   "cell_type": "code",
   "execution_count": 7,
   "id": "cb0fbaa5",
   "metadata": {},
   "outputs": [],
   "source": [
    "# There's a particular dictionary structure that's required to describe our function:\n",
    "\n",
    "seats_function = {\n",
    "    \"name\": \"get_seats_available\",\n",
    "    \"description\": \"Get the seats of a return ticket to the destination city. Call this whenever you need to know the ticket available, for example when a customer asks 'I want to make a reservation'\",\n",
    "    \"parameters\": {\n",
    "        \"type\": \"object\",\n",
    "        \"properties\": {\n",
    "            \"destination_city\": {\n",
    "                \"type\": \"string\",\n",
    "                \"description\": \"The city that the customer wants to travel to\",\n",
    "            },\n",
    "        },\n",
    "        \"required\": [\"destination_city\"],\n",
    "        \"additionalProperties\": False\n",
    "    }\n",
    "}"
   ]
  },
  {
   "cell_type": "code",
   "execution_count": 8,
   "id": "2569f09b",
   "metadata": {},
   "outputs": [],
   "source": [
    "def set_reservation(destination_city, user_name, date):\n",
    "    print(f\"Tool set_reservation called for {destination_city}\")\n",
    "    city = destination_city.lower()\n",
    "    if (seats_available.get(city, \"Unknown\") != 0):\n",
    "       return f\"Ticket to {destination_city} at {date} in the name of {user_name} was reserved!\""
   ]
  },
  {
   "cell_type": "code",
   "execution_count": 9,
   "id": "7029cc51",
   "metadata": {},
   "outputs": [],
   "source": [
    "# There's a particular dictionary structure that's required to describe our function:\n",
    "\n",
    "reservation_function = {\n",
    "    \"name\": \"set_reservation\",\n",
    "    \"description\": \"Make reservation for the user with the destination, name, and date. Call this whenever you need to make a reservation, for example when a customer asks 'I want to make a reservation'\",\n",
    "    \"parameters\": {\n",
    "        \"type\": \"object\",\n",
    "        \"properties\": {\n",
    "            \"destination_city\": {\n",
    "                \"type\": \"string\",\n",
    "                \"description\": \"The city that the customer wants to travel to\",\n",
    "            },\n",
    "            \"user_name\": {\n",
    "                \"type\": \"string\",\n",
    "                \"description\": \"The name of the user where the ticket will be reserved\",\n",
    "            },\n",
    "            \"date\": {\n",
    "                \"type\": \"string\",\n",
    "                \"description\": \"The date where the ticket will be reserved\",\n",
    "            },\n",
    "        },\n",
    "        \"required\": [\"destination_city\", \"user_name\", \"date\"],\n",
    "        \"additionalProperties\": False\n",
    "    }\n",
    "}"
   ]
  },
  {
   "cell_type": "code",
   "execution_count": 10,
   "id": "aaacae4e",
   "metadata": {},
   "outputs": [],
   "source": [
    "# And this is included in a list of tools:\n",
    "\n",
    "tools = [{\"type\": \"function\", \"function\": price_function},\n",
    "         {\"type\": \"function\", \"function\": seats_function},\n",
    "         {\"type\": \"function\", \"function\": reservation_function}]"
   ]
  },
  {
   "cell_type": "code",
   "execution_count": 14,
   "id": "2b71e115",
   "metadata": {},
   "outputs": [],
   "source": [
    "def handle_tool_call(message):\n",
    "    responses = []\n",
    "    cities = []\n",
    "\n",
    "    for tool_call in message.tool_calls:\n",
    "        arguments = json.loads(tool_call.function.arguments)\n",
    "        city = arguments.get(\"destination_city\")\n",
    "        name = arguments.get(\"user_name\")\n",
    "        date = arguments.get(\"date\")\n",
    "        function_name = tool_call.function.name\n",
    "\n",
    "        if function_name == \"get_ticket_price\":\n",
    "            result = get_ticket_price(city)\n",
    "            response_content = {\n",
    "                \"destination_city\": city,\n",
    "                \"price\": result\n",
    "            }\n",
    "\n",
    "        elif function_name == \"get_seats_available\":\n",
    "            result = get_seats_available(city)\n",
    "            response_content = {\n",
    "                \"destination_city\": city,\n",
    "                \"seats_available\": result\n",
    "            }\n",
    "\n",
    "        elif function_name == \"set_reservation\":\n",
    "            result = set_reservation(city, name, date)\n",
    "            response_content = {\n",
    "                \"destination_city\": city,\n",
    "                \"message\": result\n",
    "            }\n",
    "\n",
    "        else:\n",
    "            result = \"Unknown tool\"\n",
    "            response_content = {\n",
    "                \"destination_city\": city,\n",
    "                \"error\": result\n",
    "            }\n",
    "\n",
    "        response = {\n",
    "            \"role\": \"tool\",\n",
    "            \"tool_call_id\": tool_call.id,\n",
    "            \"content\": json.dumps(response_content)\n",
    "        }\n",
    "\n",
    "        responses.append(response)\n",
    "        cities.append(city)\n",
    "\n",
    "    return responses, cities\n"
   ]
  },
  {
   "cell_type": "code",
   "execution_count": 17,
   "id": "35cf75b3",
   "metadata": {},
   "outputs": [],
   "source": [
    "def chat(message, history):\n",
    "    messages = [{\"role\": \"system\", \"content\": system_message}] + history + [{\"role\": \"user\", \"content\": message}]\n",
    "    response = openai.chat.completions.create(model=MODEL, messages=messages, tools=tools, tool_choice=\"auto\")\n",
    "\n",
    "    if response.choices[0].finish_reason == \"tool_calls\":\n",
    "        tool_message = response.choices[0].message\n",
    "        tool_responses, city = handle_tool_call(tool_message)\n",
    "\n",
    "        messages.append(tool_message)        # the assistant's tool call message\n",
    "        messages.extend(tool_responses)      # ✅ add each tool result correctly\n",
    "\n",
    "        # Make the follow-up call after tool responses\n",
    "        response = openai.chat.completions.create(model=MODEL, messages=messages)\n",
    "\n",
    "    return response.choices[0].message.content\n"
   ]
  },
  {
   "cell_type": "code",
   "execution_count": 18,
   "id": "9b2546f4",
   "metadata": {},
   "outputs": [
    {
     "name": "stdout",
     "output_type": "stream",
     "text": [
      "* Running on local URL:  http://127.0.0.1:7862\n",
      "* To create a public link, set `share=True` in `launch()`.\n"
     ]
    },
    {
     "data": {
      "text/html": [
       "<div><iframe src=\"http://127.0.0.1:7862/\" width=\"100%\" height=\"500\" allow=\"autoplay; camera; microphone; clipboard-read; clipboard-write;\" frameborder=\"0\" allowfullscreen></iframe></div>"
      ],
      "text/plain": [
       "<IPython.core.display.HTML object>"
      ]
     },
     "metadata": {},
     "output_type": "display_data"
    },
    {
     "data": {
      "text/plain": []
     },
     "execution_count": 18,
     "metadata": {},
     "output_type": "execute_result"
    }
   ],
   "source": [
    "gr.ChatInterface(fn=chat, type=\"messages\").launch()"
   ]
  }
 ],
 "metadata": {
  "kernelspec": {
   "display_name": "llms",
   "language": "python",
   "name": "python3"
  },
  "language_info": {
   "codemirror_mode": {
    "name": "ipython",
    "version": 3
   },
   "file_extension": ".py",
   "mimetype": "text/x-python",
   "name": "python",
   "nbconvert_exporter": "python",
   "pygments_lexer": "ipython3",
   "version": "3.11.12"
  }
 },
 "nbformat": 4,
 "nbformat_minor": 5
}
